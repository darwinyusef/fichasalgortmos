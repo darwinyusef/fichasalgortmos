{
  "nbformat": 4,
  "nbformat_minor": 0,
  "metadata": {
    "colab": {
      "provenance": []
    },
    "kernelspec": {
      "name": "python3",
      "display_name": "Python 3"
    },
    "language_info": {
      "name": "python"
    }
  },
  "cells": [
    {
      "cell_type": "markdown",
      "source": [
        "# Ficha funciones\n",
        "\n",
        "Una función en Python es un bloque de código que se agrupa bajo un mismo nombre y que puede ser reutilizado en cualquier parte del programa. Una función generalmente realiza una tarea específica y puede recibir datos (llamados parámetros o argumentos) para trabajar con ellos y devolver un resultado (mediante una sentencia return)."
      ],
      "metadata": {
        "id": "SiTioguD85zY"
      }
    },
    {
      "cell_type": "code",
      "execution_count": 4,
      "metadata": {
        "colab": {
          "base_uri": "https://localhost:8080/"
        },
        "id": "iEitsuo482Fg",
        "outputId": "38858cf8-ed8a-45c3-c9a5-99ad6d91e91c"
      },
      "outputs": [
        {
          "output_type": "execute_result",
          "data": {
            "text/plain": [
              "30"
            ]
          },
          "metadata": {},
          "execution_count": 4
        }
      ],
      "source": [
        "def nombre_de_la_funcion(parametro1, parametro2):\n",
        "    # Bloque de código que realiza la operación\n",
        "    resultado = parametro1 + parametro2  # ejemplo de operación\n",
        "    return resultado  # Devuelve el resultado\n",
        "\n",
        "nombre_de_la_funcion(10, 20)"
      ]
    },
    {
      "cell_type": "markdown",
      "source": [
        "Grabación de audio\n",
        "la funcion tiene los siguientes elementos linea linea\n",
        "Este es mi audio hablando con el patito\n",
        "[Mi audio en funciones](https://darwinyusef.github.io/fichasalgortmos/funciones/elpatitoyusef.mp3)\n"
      ],
      "metadata": {
        "id": "SGtswNqH9JV_"
      }
    },
    {
      "cell_type": "code",
      "source": [
        "# Se declara la funcion\n",
        "# Se incluye un parametro name\n",
        "def saludar(nombre):\n",
        "    # se realiza un retorno de la variable name concatenada con f\n",
        "    return f\"Hola, {nombre}!\"\n",
        "\n",
        "# se hace un llamado a la funcion se envia un dato al parametro name llamado \"Juan\"\n",
        "# Se guarda en saludo la variable\n",
        "saludo = saludar(\"Juan\")\n",
        "# se imprime saludo\n",
        "print(saludo)"
      ],
      "metadata": {
        "colab": {
          "base_uri": "https://localhost:8080/"
        },
        "id": "omDHG2NO9OUP",
        "outputId": "defab3d2-68bb-4fd3-f725-b5eb23d8db0b"
      },
      "execution_count": 6,
      "outputs": [
        {
          "output_type": "stream",
          "name": "stdout",
          "text": [
            "Hola, Juan!\n"
          ]
        }
      ]
    }
  ]
}